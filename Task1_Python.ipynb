{
 "cells": [
  {
   "cell_type": "markdown",
   "id": "960a5381-5e87-47eb-a0bd-13f56c8eadeb",
   "metadata": {},
   "source": [
    "# This is a title\n"
   ]
  },
  {
   "cell_type": "markdown",
   "id": "89c38b1a-92e8-4f4f-a824-2c4affe61c2b",
   "metadata": {},
   "source": [
    "# This is bold text\n",
    "  *Bold Text*"
   ]
  },
  {
   "cell_type": "markdown",
   "id": "d3d70446-e9b8-479a-8fcd-b862a834d113",
   "metadata": {},
   "source": [
    "# This is italic text\n",
    " *italic text*"
   ]
  },
  {
   "cell_type": "markdown",
   "id": "a8aaece2-60a5-4ea7-97f0-5bfc7d9455d2",
   "metadata": {},
   "source": [
    "# bullet points\n",
    "\n",
    "* shop1\n",
    "* shop2\n",
    "* shop3\n"
   ]
  },
  {
   "cell_type": "markdown",
   "id": "d57f1356-5b32-4809-924c-62fe0a118d3e",
   "metadata": {},
   "source": [
    "# Number List\n",
    "  1. First list\n",
    "  2. Second list\n",
    "  3. Third list"
   ]
  },
  {
   "cell_type": "markdown",
   "id": "c25663c5-dc2a-4db3-a7a9-0f4b84ea4c76",
   "metadata": {},
   "source": [
    "# Link\n",
    "https://jupyter.org/"
   ]
  },
  {
   "attachments": {
    "6383140b-0206-492e-9538-d37e1c8fc7e6.jpg": {
     "image/jpeg": "[encoded data removed]"
    }
   },
   "cell_type": "markdown",
   "id": "64c43a85-1493-4185-a67d-b2e13dae8b20",
   "metadata": {},
   "source": [
    "# Image\n",
    "![image.jpg](attachment:6383140b-0206-492e-9538-d37e1c8fc7e6.jpg)"
   ]
  },
  {
   "cell_type": "code",
   "execution_count": 33,
   "id": "998fa2b3-66c6-4e88-9f32-c53bc1c3b5ff",
   "metadata": {},
   "outputs": [
    {
     "name": "stdout",
     "output_type": "stream",
     "text": [
      "Hello\n"
     ]
    }
   ],
   "source": [
    "# print\n",
    "print(\"Hello\")"
   ]
  },
  {
   "cell_type": "markdown",
   "id": "4517ceea-af7f-4a5f-94c4-5bc86ce368fd",
   "metadata": {},
   "source": [
    "# Blockquotes\n",
    "\n",
    "> This is a blockquote."
   ]
  },
  {
   "cell_type": "markdown",
   "id": "6c2d3037-aaa6-480d-9910-df3f8351f681",
   "metadata": {},
   "source": [
    "# Line Break\n",
    "<p>This is Project.<br>This is a Python Project.</p>"
   ]
  },
  {
   "cell_type": "markdown",
   "id": "d8c03e85-d18a-4297-8a9a-886862dc2184",
   "metadata": {},
   "source": [
    "***\n",
    "This is a Python Program\n",
    "***"
   ]
  },
  {
   "cell_type": "markdown",
   "id": "a3faf1c0-a206-4655-a32c-66ebf1414b7f",
   "metadata": {},
   "source": [
    "'Python programming langugae'"
   ]
  },
  {
   "cell_type": "markdown",
   "id": "a131701b-58e7-4db6-a69b-0b8a294710f8",
   "metadata": {},
   "source": [
    "~python~"
   ]
  },
  {
   "cell_type": "markdown",
   "id": "3ec77718-ef9a-412d-b65b-f2e1b8b59af9",
   "metadata": {},
   "source": [
    "> Python\n",
    "> > Programming\n",
    "> > > Langugae"
   ]
  },
  {
   "cell_type": "markdown",
   "id": "715b8894-0083-4960-9574-d4fb9660b40d",
   "metadata": {},
   "source": [
    "| Subject | Institute |\n",
    "|---------|------|\n",
    "| Python  | ARC  |"
   ]
  },
  {
   "cell_type": "code",
   "execution_count": null,
   "id": "a554b1da-cf99-482e-b01e-e754ad66ddbf",
   "metadata": {},
   "outputs": [],
   "source": []
  }
 ],
 "metadata": {
  "kernelspec": {
   "display_name": "Python 3 (ipykernel)",
   "language": "python",
   "name": "python3"
  },
  "language_info": {
   "codemirror_mode": {
    "name": "ipython",
    "version": 3
   },
   "file_extension": ".py",
   "mimetype": "text/x-python",
   "name": "python",
   "nbconvert_exporter": "python",
   "pygments_lexer": "ipython3",
   "version": "3.12.4"
  }
 },
 "nbformat": 4,
 "nbformat_minor": 5
}
